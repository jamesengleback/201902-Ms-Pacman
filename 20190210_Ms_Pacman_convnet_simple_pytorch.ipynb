{
  "nbformat": 4,
  "nbformat_minor": 0,
  "metadata": {
    "colab": {
      "name": "20190210-Ms Pacman convnet simple pytorch.ipynb",
      "version": "0.3.2",
      "provenance": []
    },
    "kernelspec": {
      "name": "python3",
      "display_name": "Python 3"
    }
  },
  "cells": [
    {
      "metadata": {
        "id": "6HfWC6hL0wrs",
        "colab_type": "code",
        "colab": {
          "base_uri": "https://localhost:8080/",
          "height": 451
        },
        "outputId": "c06d4c00-835c-48f9-f7a9-d3dfc93f5f4b"
      },
      "cell_type": "code",
      "source": [
        "import gym\n",
        "import numpy as np\n",
        "import matplotlib.pyplot as plt\n",
        "\n",
        "env = gym.make(\"MsPacman-v0\")\n",
        "#env.reset()\n",
        "#state = env.step(1)\n",
        "plt.style.use('default')\n",
        "plt.imshow(state[0])\n",
        "plt.show()\n",
        "print(state[2])"
      ],
      "execution_count": 24,
      "outputs": [
        {
          "output_type": "display_data",
          "data": {
            "image/png": "[encoded data removed]",
            "text/plain": [
              "<Figure size 640x480 with 1 Axes>"
            ]
          },
          "metadata": {
            "tags": []
          }
        },
        {
          "output_type": "stream",
          "text": [
            "True\n"
          ],
          "name": "stdout"
        }
      ]
    },
    {
      "metadata": {
        "id": "3IT5DbMH17H0",
        "colab_type": "code",
        "colab": {
          "base_uri": "https://localhost:8080/",
          "height": 34
        },
        "outputId": "ca025197-3817-4ab7-88f7-d1c8302f5fb9"
      },
      "cell_type": "code",
      "source": [
        "state[0].shape"
      ],
      "execution_count": 2,
      "outputs": [
        {
          "output_type": "execute_result",
          "data": {
            "text/plain": [
              "(210, 160, 3)"
            ]
          },
          "metadata": {
            "tags": []
          },
          "execution_count": 2
        }
      ]
    },
    {
      "metadata": {
        "id": "xjDx-G7c6tZn",
        "colab_type": "code",
        "colab": {}
      },
      "cell_type": "code",
      "source": [
        "import torch\n",
        "import torch.nn as nn\n",
        "import torch.nn.functional as F\n",
        "\n",
        "class Model(nn.Module):\n",
        "  def __init__(self):\n",
        "    super(Model, self).__init__()\n",
        "    \n",
        "    \n",
        "    \n",
        "    self.l1 = nn.Conv2d(in_channels=3, out_channels=1,kernel_size = 3)\n",
        "    self.l2 = nn.Conv2d(in_channels=1, out_channels=1,kernel_size = 3)\n",
        "    self.l3 = nn.Linear(51, 8) # 1*38\n",
        "    \n",
        "    self.l4 = nn.Linear(304, 8) # 1*38\n",
        "  def forward(self,state):\n",
        "    \n",
        "    x = state[0]## picture\n",
        "    x = x.swapaxes(2,0)#swap for depth\n",
        "    x = torch.tensor(x, dtype = torch.float).view(1,3, 160, 210)\n",
        "    # process raw output to  something this can eat\n",
        "    \n",
        "    x = self.l1(x)\n",
        "    x = F.max_pool2d(x, 2)\n",
        "    x = F.relu(x) \n",
        "    x = self.l2(x)\n",
        "    x = F.max_pool2d(x, 2) \n",
        "    x = F.relu(x)\n",
        "    x = self.l3(x)\n",
        "    x = x.view(304)\n",
        "    x = self.l4(x)\n",
        "    x = torch.softmax(x,0)\n",
        "\n",
        "    return x\n",
        "  \n",
        "jerry = Model()"
      ],
      "execution_count": 0,
      "outputs": []
    },
    {
      "metadata": {
        "id": "AwHQin24HrkW",
        "colab_type": "code",
        "colab": {}
      },
      "cell_type": "code",
      "source": [
        "optimizer = torch.optim.Adam(jerry.parameters(),lr = 0.1)"
      ],
      "execution_count": 0,
      "outputs": []
    },
    {
      "metadata": {
        "id": "FYI49JK9Hzu9",
        "colab_type": "code",
        "colab": {
          "base_uri": "https://localhost:8080/",
          "height": 1743
        },
        "outputId": "5f42c4cd-0b87-406e-f146-25f1fc0d47bd"
      },
      "cell_type": "code",
      "source": [
        "for epoch in range(5):\n",
        "  env.reset()\n",
        "  state = env.step(1)\n",
        "  i = 0\n",
        "  score = 0\n",
        "  while state[2] == False:  \n",
        "    screen = state[0]\n",
        "    score += state[1]\n",
        "    out = jerry.forward(state).detach().numpy()\n",
        "    out = np.argmax(out)\n",
        "    state = env.step(out)\n",
        "    i+=1\n",
        "    if i%50== 0:\n",
        "\n",
        "      loss = torch.tensor(1/(score+1),requires_grad=True)\n",
        "      loss.backward()\n",
        "      optimizer.step()\n",
        "      optimizer.zero_grad()\n",
        "      print(loss)\n",
        "  print(state[2])\n",
        "plt.imshow(state[0])\n",
        "plt.show()"
      ],
      "execution_count": 87,
      "outputs": [
        {
          "output_type": "stream",
          "text": [
            "tensor(1., requires_grad=True)\n",
            "tensor(0.0323, requires_grad=True)\n",
            "tensor(0.0110, requires_grad=True)\n",
            "tensor(0.0110, requires_grad=True)\n",
            "tensor(0.0110, requires_grad=True)\n",
            "tensor(0.0099, requires_grad=True)\n",
            "tensor(0.0062, requires_grad=True)\n",
            "tensor(0.0047, requires_grad=True)\n",
            "tensor(0.0036, requires_grad=True)\n",
            "tensor(0.0036, requires_grad=True)\n",
            "tensor(0.0036, requires_grad=True)\n",
            "True\n",
            "tensor(1., requires_grad=True)\n",
            "tensor(0.0476, requires_grad=True)\n",
            "tensor(0.0123, requires_grad=True)\n",
            "tensor(0.0123, requires_grad=True)\n",
            "tensor(0.0076, requires_grad=True)\n",
            "tensor(0.0076, requires_grad=True)\n",
            "tensor(0.0045, requires_grad=True)\n",
            "tensor(0.0032, requires_grad=True)\n",
            "tensor(0.0029, requires_grad=True)\n",
            "tensor(0.0029, requires_grad=True)\n",
            "True\n",
            "tensor(1., requires_grad=True)\n",
            "tensor(0.0909, requires_grad=True)\n",
            "tensor(0.0141, requires_grad=True)\n",
            "tensor(0.0141, requires_grad=True)\n",
            "tensor(0.0141, requires_grad=True)\n",
            "tensor(0.0090, requires_grad=True)\n",
            "tensor(0.0071, requires_grad=True)\n",
            "tensor(0.0071, requires_grad=True)\n",
            "tensor(0.0045, requires_grad=True)\n",
            "tensor(0.0040, requires_grad=True)\n",
            "tensor(0.0034, requires_grad=True)\n",
            "tensor(0.0031, requires_grad=True)\n",
            "True\n",
            "tensor(1., requires_grad=True)\n",
            "tensor(0.0909, requires_grad=True)\n",
            "tensor(0.0110, requires_grad=True)\n",
            "tensor(0.0058, requires_grad=True)\n",
            "tensor(0.0038, requires_grad=True)\n",
            "tensor(0.0038, requires_grad=True)\n",
            "tensor(0.0038, requires_grad=True)\n",
            "tensor(0.0038, requires_grad=True)\n",
            "tensor(0.0034, requires_grad=True)\n",
            "tensor(0.0034, requires_grad=True)\n",
            "tensor(0.0033, requires_grad=True)\n",
            "tensor(0.0033, requires_grad=True)\n",
            "tensor(0.0029, requires_grad=True)\n",
            "tensor(0.0026, requires_grad=True)\n",
            "tensor(0.0023, requires_grad=True)\n",
            "tensor(0.0020, requires_grad=True)\n",
            "tensor(0.0020, requires_grad=True)\n",
            "tensor(0.0018, requires_grad=True)\n",
            "tensor(0.0018, requires_grad=True)\n",
            "tensor(0.0016, requires_grad=True)\n",
            "tensor(0.0016, requires_grad=True)\n",
            "tensor(0.0016, requires_grad=True)\n",
            "True\n",
            "tensor(1., requires_grad=True)\n",
            "tensor(0.0476, requires_grad=True)\n",
            "tensor(0.0141, requires_grad=True)\n",
            "tensor(0.0123, requires_grad=True)\n",
            "tensor(0.0076, requires_grad=True)\n",
            "tensor(0.0076, requires_grad=True)\n",
            "tensor(0.0045, requires_grad=True)\n",
            "tensor(0.0029, requires_grad=True)\n",
            "tensor(0.0018, requires_grad=True)\n",
            "tensor(0.0018, requires_grad=True)\n",
            "tensor(0.0011, requires_grad=True)\n",
            "tensor(0.0011, requires_grad=True)\n",
            "tensor(0.0011, requires_grad=True)\n",
            "tensor(0.0011, requires_grad=True)\n",
            "tensor(0.0010, requires_grad=True)\n",
            "tensor(0.0010, requires_grad=True)\n",
            "tensor(0.0010, requires_grad=True)\n",
            "True\n"
          ],
          "name": "stdout"
        },
        {
          "output_type": "display_data",
          "data": {
            "image/png": "[encoded data removed]",
            "text/plain": [
              "<Figure size 640x480 with 1 Axes>"
            ]
          },
          "metadata": {
            "tags": []
          }
        }
      ]
    }
  ]
}