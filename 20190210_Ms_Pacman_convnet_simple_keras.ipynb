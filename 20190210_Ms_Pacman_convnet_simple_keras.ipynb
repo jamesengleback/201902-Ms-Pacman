{
  "nbformat": 4,
  "nbformat_minor": 0,
  "metadata": {
    "colab": {
      "name": "20190210-Ms Pacman convnet simple keras.ipynb",
      "version": "0.3.2",
      "provenance": []
    },
    "kernelspec": {
      "name": "python3",
      "display_name": "Python 3"
    }
  },
  "cells": [
    {
      "metadata": {
        "id": "6HfWC6hL0wrs",
        "colab_type": "code",
        "colab": {
          "base_uri": "https://localhost:8080/",
          "height": 451
        },
        "outputId": "c06d4c00-835c-48f9-f7a9-d3dfc93f5f4b"
      },
      "cell_type": "code",
      "source": [
        "import gym\n",
        "import numpy as np\n",
        "import matplotlib.pyplot as plt\n",
        "\n",
        "env = gym.make(\"MsPacman-v0\")\n",
        "#env.reset()\n",
        "#state = env.step(1)\n",
        "plt.style.use('default')\n",
        "plt.imshow(state[0])\n",
        "plt.show()\n",
        "print(state[2])"
      ],
      "execution_count": 24,
      "outputs": [
        {
          "output_type": "display_data",
          "data": {
            "image/png": "[encoded data removed]",
            "text/plain": [
              "<Figure size 640x480 with 1 Axes>"
            ]
          },
          "metadata": {
            "tags": []
          }
        },
        {
          "output_type": "stream",
          "text": [
            "True\n"
          ],
          "name": "stdout"
        }
      ]
    },
    {
      "metadata": {
        "id": "3IT5DbMH17H0",
        "colab_type": "code",
        "colab": {
          "base_uri": "https://localhost:8080/",
          "height": 34
        },
        "outputId": "ca025197-3817-4ab7-88f7-d1c8302f5fb9"
      },
      "cell_type": "code",
      "source": [
        "state[0].shape"
      ],
      "execution_count": 2,
      "outputs": [
        {
          "output_type": "execute_result",
          "data": {
            "text/plain": [
              "(210, 160, 3)"
            ]
          },
          "metadata": {
            "tags": []
          },
          "execution_count": 2
        }
      ]
    },
    {
      "metadata": {
        "id": "vOeaLD_f07ds",
        "colab_type": "code",
        "colab": {}
      },
      "cell_type": "code",
      "source": [
        "from keras.layers import Input, Dense , Conv2D, MaxPooling2D, Activation, Dropout, Flatten, Concatenate\n",
        "from keras.models import Model, Sequential\n",
        "from keras import optimizers\n",
        "\n",
        "\n",
        "kernel_size = 3\n",
        "steven = Sequential()\n",
        "steven.add(Conv2D(32, kernel_size = (kernel_size),input_shape = (210, 160, 3)))\n",
        "steven.add(Activation('relu'))\n",
        "steven.add(MaxPooling2D(pool_size = (2)))\n",
        "steven.add(Dropout(0.2))\n",
        "\n",
        "steven.add(Conv2D(32, kernel_size = (kernel_size)))\n",
        "steven.add(Activation('relu'))\n",
        "steven.add(MaxPooling2D(pool_size = (2)))\n",
        "steven.add(Dropout(0.2))\n",
        "\n",
        "steven.add(Conv2D(32, kernel_size = (kernel_size)))\n",
        "steven.add(Activation('relu'))\n",
        "steven.add(MaxPooling2D(pool_size = (2)))\n",
        "steven.add(Dropout(0.2))\n",
        "\n",
        "\n",
        "steven.add(Flatten())\n",
        "steven.add(Dense(64))\n",
        "steven.add(Activation('relu'))\n",
        "\n",
        "steven.add(Dense(5))\n",
        "steven.add(Activation('softmax'))\n",
        "\n",
        "\n",
        "adam = optimizers.Adam(lr=0.01, beta_1=0.9, beta_2=0.999, epsilon=None, decay=0.00, amsgrad=False)\n",
        "sgd = optimizers.SGD(lr=0.01, decay=1e-6, momentum=1, nesterov=True)\n",
        "\n",
        "steven.compile(optimizer= adam,\n",
        "              loss='categorical_crossentropy',\n",
        "              metrics=['accuracy'])"
      ],
      "execution_count": 0,
      "outputs": []
    },
    {
      "metadata": {
        "id": "IWRzdTri4Xk1",
        "colab_type": "code",
        "colab": {
          "base_uri": "https://localhost:8080/",
          "height": 433
        },
        "outputId": "350824e0-3c5a-4f03-f936-049d6924277c"
      },
      "cell_type": "code",
      "source": [
        "score_record = [0]\n",
        "\n",
        "env.reset()\n",
        "\n",
        "state = env.step(1)\n",
        "for i in range(1000):\n",
        "  \n",
        "  screen = state[0]\n",
        "  score = state[1]\n",
        "  output = steven.predict(screen.reshape(1,210, 160, 3))\n",
        "  move = np.argmax(output)\n",
        "  state = env.step(move)\n",
        "  score_record.append(score + score_record[-1])\n",
        "  if state[2] == True:\n",
        "    break\n",
        "    \n",
        "loss = 1/score\n",
        "\n",
        "\n",
        "score_record = np.array(score_record)\n",
        "print(state[2])\n",
        "plt.plot(score_record)\n",
        "plt.imshow(state[0])\n",
        "plt.show()"
      ],
      "execution_count": 26,
      "outputs": [
        {
          "output_type": "display_data",
          "data": {
            "image/png": "[encoded data removed]",
            "text/plain": [
              "<Figure size 640x480 with 1 Axes>"
            ]
          },
          "metadata": {
            "tags": []
          }
        }
      ]
    },
    {
      "metadata": {
        "id": "xjDx-G7c6tZn",
        "colab_type": "code",
        "colab": {}
      },
      "cell_type": "code",
      "source": [
        "import torch\n",
        "import torch.nn as nn\n",
        "import torch.nn.functional as F\n",
        "\n",
        "class Model(nn.Module):\n",
        "  def __init__(self):\n",
        "    super(Model, self).__init__()\n",
        "    \n",
        "    \n",
        "    \n",
        "    self.l1 = nn.Conv2d(in_channels=3, out_channels=1,kernel_size = 3)\n",
        "    self.l2 = nn.Conv2d(in_channels=1, out_channels=1,kernel_size = 3)\n",
        "    self.l3 = nn.Linear(51, 8) # 1*38\n",
        "    \n",
        "    self.l4 = nn.Linear(304, 8) # 1*38\n",
        "  def forward(self,state):\n",
        "    \n",
        "    x = state[0]## picture\n",
        "    x = x.swapaxes(2,0)#swap for depth\n",
        "    x = torch.tensor(x, dtype = torch.float).view(1,3, 160, 210)\n",
        "    # process raw output to  something this can eat\n",
        "    \n",
        "    x = self.l1(x)\n",
        "    x = F.max_pool2d(x, 2)\n",
        "    x = F.relu(x) \n",
        "    x = self.l2(x)\n",
        "    x = F.max_pool2d(x, 2) \n",
        "    x = F.relu(x)\n",
        "    x = self.l3(x)\n",
        "    x = x.view(304)\n",
        "    x = self.l4(x)\n",
        "    x = torch.softmax(x,0)\n",
        "\n",
        "    return x\n",
        "  \n",
        "jerry = Model()"
      ],
      "execution_count": 0,
      "outputs": []
    },
    {
      "metadata": {
        "id": "AwHQin24HrkW",
        "colab_type": "code",
        "colab": {}
      },
      "cell_type": "code",
      "source": [
        "optimizer = torch.optim.Adam(jerry.parameters(),lr = 0.1)"
      ],
      "execution_count": 0,
      "outputs": []
    },
    {
      "metadata": {
        "id": "FYI49JK9Hzu9",
        "colab_type": "code",
        "colab": {
          "base_uri": "https://localhost:8080/",
          "height": 468
        },
        "outputId": "b783c667-622a-487c-e5b9-e927347f14a6"
      },
      "cell_type": "code",
      "source": [
        "score_record = [0]\n",
        "\n",
        "env.reset()\n",
        "\n",
        "state = env.step(1)\n",
        "for i in range(100):\n",
        "  \n",
        "  screen = state[0]\n",
        "  score = state[1]\n",
        "  out = jerry.forward(state).detach().numpy()\n",
        "  out = np.argmax(out)\n",
        "  state = env.step(out)\n",
        "  score_record.append(score + score_record[-1])\n",
        "  if state[2] == True:\n",
        "    break\n",
        "  if i%100 == 0:\n",
        "    \n",
        "    loss = torch.tensor(1/(score+1),requires_grad=True)\n",
        "    loss.backward()\n",
        "    optimizer.step()\n",
        "    optimizer.zero_grad()\n",
        "    print(loss)\n",
        "score_record = np.array(score_record)\n",
        "print(state[2])\n",
        "plt.imshow(state[0])\n",
        "plt.show()"
      ],
      "execution_count": 70,
      "outputs": [
        {
          "output_type": "stream",
          "text": [
            "tensor(1., requires_grad=True)\n",
            "False\n"
          ],
          "name": "stdout"
        },
        {
          "output_type": "display_data",
          "data": {
            "image/png": "[encoded data removed]",
            "text/plain": [
              "<Figure size 640x480 with 1 Axes>"
            ]
          },
          "metadata": {
            "tags": []
          }
        }
      ]
    },
    {
      "metadata": {
        "id": "8NrAIbKxJ7VT",
        "colab_type": "code",
        "colab": {
          "base_uri": "https://localhost:8080/",
          "height": 450
        },
        "outputId": "d4eb0778-5803-49f1-f80e-8260355c46a2"
      },
      "cell_type": "code",
      "source": [
        "plt.plot(score_record)\n"
      ],
      "execution_count": 65,
      "outputs": [
        {
          "output_type": "execute_result",
          "data": {
            "text/plain": [
              "[<matplotlib.lines.Line2D at 0x7fd4d3241a58>]"
            ]
          },
          "metadata": {
            "tags": []
          },
          "execution_count": 65
        },
        {
          "output_type": "display_data",
          "data": {
            "image/png": "[encoded data removed]",
            "text/plain": [
              "<Figure size 640x480 with 1 Axes>"
            ]
          },
          "metadata": {
            "tags": []
          }
        }
      ]
    }
  ]
}